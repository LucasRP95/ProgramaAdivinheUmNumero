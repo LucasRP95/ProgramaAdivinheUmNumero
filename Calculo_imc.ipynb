{
  "nbformat": 4,
  "nbformat_minor": 0,
  "metadata": {
    "colab": {
      "provenance": [],
      "authorship_tag": "ABX9TyNA6OeFhq97gnBj9t8ElV35",
      "include_colab_link": true
    },
    "kernelspec": {
      "name": "python3",
      "display_name": "Python 3"
    },
    "language_info": {
      "name": "python"
    }
  },
  "cells": [
    {
      "cell_type": "markdown",
      "metadata": {
        "id": "view-in-github",
        "colab_type": "text"
      },
      "source": [
        "<a href=\"https://colab.research.google.com/github/LucasRP95/ProgramaAdivinheUmNumero/blob/master/Calculo_imc.ipynb\" target=\"_parent\"><img src=\"https://colab.research.google.com/assets/colab-badge.svg\" alt=\"Open In Colab\"/></a>"
      ]
    },
    {
      "cell_type": "markdown",
      "source": [
        "Asimov Academy"
      ],
      "metadata": {
        "id": "dNPE8ZeGuC5C"
      }
    },
    {
      "cell_type": "code",
      "source": [
        "#imc peso * altura²\n",
        "import numpy as np\n",
        "peso = float(input('Digite seu peso: ' ))\n",
        "altura = float(input('Digite sua altura:' ))\n"
      ],
      "metadata": {
        "colab": {
          "base_uri": "https://localhost:8080/"
        },
        "id": "_6hTOOpHveyN",
        "outputId": "aea3e395-6133-4386-abb4-60b60a4a71b7"
      },
      "execution_count": 41,
      "outputs": [
        {
          "name": "stdout",
          "output_type": "stream",
          "text": [
            "Digite seu peso: 80\n",
            "Digite sua altura:1.77\n"
          ]
        }
      ]
    },
    {
      "cell_type": "code",
      "source": [
        "def calcular_imc(peso, altura):\n",
        "  imc = peso / altura**2\n",
        "  return imc\n",
        "\n",
        "def  classificar_imc(imc):\n",
        "  if imc < 18.5:\n",
        "      return 'Abaixo do peso'\n",
        "  elif imc >= 18.5 and imc < 24.9:\n",
        "      return 'Peso normal'\n",
        "  elif imc >= 25 and imc < 29.9:\n",
        "      return 'Sobrepeso'\n"
      ],
      "metadata": {
        "id": "Li_Mf3ZRvymy"
      },
      "execution_count": 51,
      "outputs": []
    },
    {
      "cell_type": "code",
      "source": [
        "imc = calcular_imc(peso, altura)\n",
        "classificacao = classificar_imc(imc)\n",
        ""
      ],
      "metadata": {
        "id": "-evnioGjwPRx"
      },
      "execution_count": 52,
      "outputs": []
    },
    {
      "cell_type": "code",
      "source": [
        "print(classificacao)\n",
        "print(imc)"
      ],
      "metadata": {
        "colab": {
          "base_uri": "https://localhost:8080/"
        },
        "id": "p29bFR9iwdcK",
        "outputId": "e25f37f7-bc7c-41e5-b612-488e5a7c0088"
      },
      "execution_count": 53,
      "outputs": [
        {
          "output_type": "stream",
          "name": "stdout",
          "text": [
            "Sobrepeso\n",
            "25.53544639152223\n"
          ]
        }
      ]
    },
    {
      "cell_type": "code",
      "source": [],
      "metadata": {
        "id": "SNfp0VLKxE8P"
      },
      "execution_count": 44,
      "outputs": []
    }
  ]
}